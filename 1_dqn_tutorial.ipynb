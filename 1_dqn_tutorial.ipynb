{
 "cells": [
  {
   "cell_type": "markdown",
   "metadata": {},
   "source": [
    "Introduction"
   ]
  },
  {
   "cell_type": "markdown",
   "metadata": {},
   "source": [
    "This example shows how to train a DQN (Deep Q Networks) agent on the Cartpole environment using the TF-Agents library.\n",
    "\n",
    "![](./images/cartpole.png)\n",
    "\n",
    "It will walk you through all the components in a Reinforcement Learning (RL) pipeline for training, evaluation and data collection."
   ]
  },
  {
   "cell_type": "markdown",
   "metadata": {},
   "source": [
    "## Setup ##"
   ]
  },
  {
   "cell_type": "markdown",
   "metadata": {},
   "source": [
    "If you haven't installed the following dependencies, run:"
   ]
  },
  {
   "cell_type": "code",
   "execution_count": null,
   "metadata": {},
   "outputs": [],
   "source": [
    "!sudo apt install -y xvfb ffmpeg\n",
    "!pip3 install 'gym==0.10.11'\n",
    "!pip3 install 'imageio==2.4.0'\n",
    "!pip3 install 'pyglet==1.3.2'\n",
    "!pip3 install pyvirtualdisplay\n",
    "# If you want to use TF-Agents with TensorFlow 1.15 or 2.0, install version 0.3.0:\n",
    "!pip3 install tf-agents==0.3.0\n",
    "# Newer versions of tensorflow-probability require newer versions of TensorFlow.\n",
    "!pip install tensorflow-probability==0.8.0"
   ]
  },
  {
   "cell_type": "code",
   "execution_count": 4,
   "metadata": {},
   "outputs": [],
   "source": [
    "from __future__ import absolute_import, division, print_function\n",
    "\n",
    "import base64\n",
    "import imageio\n",
    "import IPython\n",
    "import matplotlib\n",
    "import matplotlib.pyplot as plt\n",
    "import numpy as np\n",
    "import PIL.Image\n",
    "import pyvirtualdisplay\n",
    "\n",
    "import tensorflow as tf\n",
    "\n",
    "from tf_agents.agents.dqn import dqn_agent\n",
    "from tf_agents.drivers import dynamic_step_driver\n",
    "from tf_agents.environments import suite_gym\n",
    "from tf_agents.environments import tf_py_environment\n",
    "from tf_agents.eval import metric_utils\n",
    "from tf_agents.metrics import tf_metrics\n",
    "from tf_agents.networks import q_network\n",
    "from tf_agents.policies import random_tf_policy\n",
    "from tf_agents.replay_buffers import tf_uniform_replay_buffer\n",
    "from tf_agents.trajectories import trajectory\n",
    "from tf_agents.utils import common"
   ]
  },
  {
   "cell_type": "code",
   "execution_count": 9,
   "metadata": {},
   "outputs": [
    {
     "data": {
      "text/plain": [
       "'1.15.3'"
      ]
     },
     "execution_count": 9,
     "metadata": {},
     "output_type": "execute_result"
    }
   ],
   "source": [
    "tf.enable_v2_behavior()\n",
    "\n",
    "# Set up a virtual display for rendering OpenAI gym environments.\n",
    "display = pyvirtualdisplay.Display(visible=0, size=(1400, 900)).start()\n",
    "\n",
    "tf.version.VERSION"
   ]
  },
  {
   "cell_type": "markdown",
   "metadata": {},
   "source": [
    "## Hyperparameters ##"
   ]
  },
  {
   "cell_type": "code",
   "execution_count": 3,
   "metadata": {},
   "outputs": [],
   "source": [
    "num_iterations = 20000 # @param {type:\"integer\"}\n",
    "\n",
    "initial_collect_steps = 1000  # @param {type:\"integer\"} \n",
    "collect_steps_per_iteration = 1  # @param {type:\"integer\"}\n",
    "replay_buffer_max_length = 100000  # @param {type:\"integer\"}\n",
    "\n",
    "batch_size = 64  # @param {type:\"integer\"}\n",
    "learning_rate = 1e-3  # @param {type:\"number\"}\n",
    "log_interval = 200  # @param {type:\"integer\"}\n",
    "\n",
    "num_eval_episodes = 10  # @param {type:\"integer\"}\n",
    "eval_interval = 1000  # @param {type:\"integer\"}"
   ]
  },
  {
   "cell_type": "markdown",
   "metadata": {},
   "source": [
    "## Environment ##"
   ]
  },
  {
   "cell_type": "markdown",
   "metadata": {},
   "source": [
    "In Reinforcement Learning (RL), an environment represents the task or problem to be solved. Standard environments can be created in TF-Agents using tf_agents.environments suites. TF-Agents has suites for loading environments from sources such as the OpenAI Gym, Atari, and DM Control.\n",
    "\n",
    "Load the CartPole environment from the OpenAI Gym suite."
   ]
  },
  {
   "cell_type": "code",
   "execution_count": 5,
   "metadata": {},
   "outputs": [],
   "source": [
    "env_name = 'CartPole-v0'\n",
    "env = suite_gym.load(env_name)"
   ]
  },
  {
   "cell_type": "markdown",
   "metadata": {},
   "source": [
    "You can render this environment to see how it looks. A free-swinging pole is attached to a cart. The goal is to move the cart right or left in order to keep the pole pointing up."
   ]
  },
  {
   "cell_type": "code",
   "execution_count": 11,
   "metadata": {},
   "outputs": [
    {
     "data": {
      "image/png": "[encoded data removed]",
      "text/plain": [
       "<PIL.Image.Image image mode=RGB size=600x400 at 0x7FED52319198>"
      ]
     },
     "execution_count": 11,
     "metadata": {},
     "output_type": "execute_result"
    }
   ],
   "source": [
    "#@test {\"skip\": true}\n",
    "env.reset()\n",
    "PIL.Image.fromarray(env.render())"
   ]
  },
  {
   "cell_type": "markdown",
   "metadata": {},
   "source": [
    "The environment.step method takes an action in the environment and returns a TimeStep tuple containing the next observation of the environment and the reward for the action.\n",
    "\n",
    "The time_step_spec() method returns the specification for the TimeStep tuple. Its observation attribute shows the shape of observations, the data types, and the ranges of allowed values. The reward attribute shows the same details for the reward."
   ]
  },
  {
   "cell_type": "code",
   "execution_count": 12,
   "metadata": {},
   "outputs": [
    {
     "name": "stdout",
     "output_type": "stream",
     "text": [
      "Observation Spec:\n",
      "BoundedArraySpec(shape=(4,), dtype=dtype('float32'), name='observation', minimum=[-4.8000002e+00 -3.4028235e+38 -4.1887903e-01 -3.4028235e+38], maximum=[4.8000002e+00 3.4028235e+38 4.1887903e-01 3.4028235e+38])\n"
     ]
    }
   ],
   "source": [
    "print('Observation Spec:')\n",
    "print(env.time_step_spec().observation)"
   ]
  },
  {
   "cell_type": "code",
   "execution_count": 13,
   "metadata": {},
   "outputs": [
    {
     "name": "stdout",
     "output_type": "stream",
     "text": [
      "Reward Spec:\n",
      "ArraySpec(shape=(), dtype=dtype('float32'), name='reward')\n"
     ]
    }
   ],
   "source": [
    "print('Reward Spec:')\n",
    "print(env.time_step_spec().reward)"
   ]
  },
  {
   "cell_type": "markdown",
   "metadata": {},
   "source": [
    "The action_spec() method returns the shape, data types, and allowed values of valid actions."
   ]
  },
  {
   "cell_type": "code",
   "execution_count": 14,
   "metadata": {},
   "outputs": [
    {
     "name": "stdout",
     "output_type": "stream",
     "text": [
      "Action Spec:\n",
      "BoundedArraySpec(shape=(), dtype=dtype('int64'), name='action', minimum=0, maximum=1)\n"
     ]
    }
   ],
   "source": [
    "print('Action Spec:')\n",
    "print(env.action_spec())"
   ]
  },
  {
   "cell_type": "markdown",
   "metadata": {},
   "source": [
    "In the Cartpole environment:\n",
    "\n",
    "+ observation is an array of 4 floats:\n",
    "    + the position and velocity of the cart\n",
    "    + the angular position and velocity of the pole\n",
    "+ reward is a scalar float value\n",
    "+ action is a scalar integer with only two possible values:\n",
    "    + 0 - \"move left\"\n",
    "    + 1 - \"move right\""
   ]
  },
  {
   "cell_type": "code",
   "execution_count": 15,
   "metadata": {},
   "outputs": [
    {
     "name": "stdout",
     "output_type": "stream",
     "text": [
      "Time step:\n",
      "TimeStep(step_type=array(0, dtype=int32), reward=array(0., dtype=float32), discount=array(1., dtype=float32), observation=array([0.00096819, 0.00838323, 0.00738158, 0.0349905 ], dtype=float32))\n",
      "Next time step:\n",
      "TimeStep(step_type=array(1, dtype=int32), reward=array(1., dtype=float32), discount=array(1., dtype=float32), observation=array([ 0.00113585,  0.20339856,  0.00808139, -0.25535434], dtype=float32))\n"
     ]
    }
   ],
   "source": [
    "time_step = env.reset()\n",
    "print('Time step:')\n",
    "print(time_step)\n",
    "\n",
    "action = np.array(1, dtype=np.int32)\n",
    "\n",
    "next_time_step = env.step(action)\n",
    "print('Next time step:')\n",
    "print(next_time_step)"
   ]
  },
  {
   "cell_type": "markdown",
   "metadata": {},
   "source": [
    "Usually two environments are instantiated: one for training and one for evaluation."
   ]
  },
  {
   "cell_type": "code",
   "execution_count": 16,
   "metadata": {},
   "outputs": [],
   "source": [
    "train_py_env = suite_gym.load(env_name)\n",
    "eval_py_env = suite_gym.load(env_name)"
   ]
  },
  {
   "cell_type": "markdown",
   "metadata": {},
   "source": [
    "The Cartpole environment, like most environments, is written in pure Python. This is converted to TensorFlow using the TFPyEnvironment wrapper.\n",
    "\n",
    "The original environment's API uses Numpy arrays. The TFPyEnvironment converts these to Tensors to make it compatible with Tensorflow agents and policies."
   ]
  },
  {
   "cell_type": "code",
   "execution_count": 17,
   "metadata": {},
   "outputs": [],
   "source": [
    "train_env = tf_py_environment.TFPyEnvironment(train_py_env)\n",
    "eval_env = tf_py_environment.TFPyEnvironment(eval_py_env)"
   ]
  },
  {
   "cell_type": "markdown",
   "metadata": {},
   "source": [
    "## Agent ##"
   ]
  },
  {
   "cell_type": "markdown",
   "metadata": {},
   "source": [
    "The algorithm used to solve an RL problem is represented by an Agent. TF-Agents provides standard implementations of a variety of Agents, including:\n",
    "\n",
    "+ DQN (used in this tutorial)\n",
    "+ REINFORCE\n",
    "+ DDPG\n",
    "+ TD3\n",
    "+ PPO\n",
    "+ SAC\n",
    "\n",
    "***The DQN agent can be used in any environment which has a discrete action space.***\n",
    "\n",
    "At the heart of a DQN Agent is a QNetwork, a neural network model that can learn to predict QValues (expected returns) for all actions, given an observation from the environment.\n",
    "\n",
    "Use tf_agents.networks.q_network to create a QNetwork, passing in the observation_spec, action_spec, and a tuple describing the number and size of the model's hidden layers."
   ]
  },
  {
   "cell_type": "code",
   "execution_count": 18,
   "metadata": {},
   "outputs": [],
   "source": [
    "fc_layer_params = (100,)\n",
    "\n",
    "q_net = q_network.QNetwork(train_env.observation_spec(),\n",
    "                           train_env.action_spec(),\n",
    "                           fc_layer_params=fc_layer_params)"
   ]
  },
  {
   "cell_type": "markdown",
   "metadata": {},
   "source": [
    "Now use tf_agents.agents.dqn.dqn_agent to instantiate a DqnAgent. In addition to the time_step_spec, action_spec and the QNetwork, the agent constructor also requires an optimizer (in this case, AdamOptimizer), a loss function, and an integer step counter."
   ]
  },
  {
   "cell_type": "code",
   "execution_count": 19,
   "metadata": {},
   "outputs": [],
   "source": [
    "optimizer = tf.train.AdamOptimizer(learning_rate=learning_rate)\n",
    "\n",
    "train_step_counter = tf.Variable(0)\n",
    "\n",
    "agent = dqn_agent.DqnAgent(train_env.time_step_spec(),\n",
    "                           train_env.action_spec(),\n",
    "                           q_network=q_net,\n",
    "                           optimizer=optimizer,\n",
    "                           td_errors_loss_fn=common.element_wise_squared_loss,\n",
    "                           train_step_counter=train_step_counter)\n",
    "\n",
    "agent.initialize()"
   ]
  },
  {
   "cell_type": "markdown",
   "metadata": {},
   "source": [
    "## Policies ##"
   ]
  },
  {
   "cell_type": "markdown",
   "metadata": {},
   "source": [
    "A policy defines the way an agent acts in an environment. Typically, the goal of reinforcement learning is to train the underlying model until the policy produces the desired outcome.\n",
    "\n",
    "In this tutorial:\n",
    "\n",
    "+ The desired outcome is keeping the pole balanced upright over the cart.\n",
    "+ The policy returns an action (left or right) for each time_step observation.\n",
    "\n",
    "Agents contain two policies:\n",
    "\n",
    "+ agent.policy - The main policy that is used for evaluation and deployment.\n",
    "+ agent.collect_policy - A second policy that is used for data collection."
   ]
  },
  {
   "cell_type": "code",
   "execution_count": 20,
   "metadata": {},
   "outputs": [],
   "source": [
    "eval_policy = agent.policy\n",
    "collect_policy = agent.collect_policy"
   ]
  },
  {
   "cell_type": "markdown",
   "metadata": {},
   "source": [
    "Policies can be created independently of agents. For example, use tf_agents.policies.random_tf_policy to create a policy which will randomly select an action for each time_step."
   ]
  },
  {
   "cell_type": "code",
   "execution_count": 21,
   "metadata": {},
   "outputs": [],
   "source": [
    "random_policy = random_tf_policy.RandomTFPolicy(train_env.time_step_spec(),\n",
    "                                                train_env.action_spec())"
   ]
  },
  {
   "cell_type": "markdown",
   "metadata": {},
   "source": [
    "To get an action from a policy, call the policy.action(time_step) method. The time_step contains the observation from the environment. This method returns a PolicyStep, which is a named tuple with three components:\n",
    "\n",
    "+ action - the action to be taken (in this case, 0 or 1)\n",
    "+ state - used for stateful (that is, RNN-based) policies\n",
    "+ info - auxiliary data, such as log probabilities of actions"
   ]
  },
  {
   "cell_type": "code",
   "execution_count": 22,
   "metadata": {},
   "outputs": [],
   "source": [
    "example_environment = tf_py_environment.TFPyEnvironment(suite_gym.load('CartPole-v0'))"
   ]
  },
  {
   "cell_type": "code",
   "execution_count": 23,
   "metadata": {},
   "outputs": [],
   "source": [
    "time_step = example_environment.reset()"
   ]
  },
  {
   "cell_type": "code",
   "execution_count": 24,
   "metadata": {},
   "outputs": [
    {
     "data": {
      "text/plain": [
       "PolicyStep(action=<tf.Tensor: id=240, shape=(1,), dtype=int64, numpy=array([1])>, state=(), info=())"
      ]
     },
     "execution_count": 24,
     "metadata": {},
     "output_type": "execute_result"
    }
   ],
   "source": [
    "random_policy.action(time_step)"
   ]
  },
  {
   "cell_type": "markdown",
   "metadata": {},
   "source": [
    "## Metrics and Evaluation ##"
   ]
  },
  {
   "cell_type": "markdown",
   "metadata": {},
   "source": [
    "The most common metric used to evaluate a policy is the average return. The return is the sum of rewards obtained while running a policy in an environment for an episode. Several episodes are run, creating an average return."
   ]
  },
  {
   "cell_type": "markdown",
   "metadata": {},
   "source": [
    "The following function computes the average return of a policy, given the policy, environment, and a number of episodes."
   ]
  },
  {
   "cell_type": "code",
   "execution_count": 25,
   "metadata": {},
   "outputs": [],
   "source": [
    "#@test {\"skip\": true}\n",
    "def compute_avg_return(environment, policy, num_episodes=10):\n",
    "    total_return = 0.0\n",
    "    for _ in range(num_episodes):\n",
    "        time_step = environment.reset()\n",
    "        episode_return = 0.0\n",
    "        \n",
    "        while not time_step.is_last():\n",
    "            action_step = policy.action(time_step)\n",
    "            time_step = environment.step(action_step.action)\n",
    "            episode_return += time_step.reward\n",
    "\n",
    "        total_return += episode_return\n",
    "\n",
    "    avg_return = total_return / num_episodes\n",
    "    return avg_return.numpy()[0]\n",
    "\n",
    "# See also the metrics module for standard implementations of different metrics.\n",
    "# https://github.com/tensorflow/agents/tree/master/tf_agents/metrics"
   ]
  },
  {
   "cell_type": "markdown",
   "metadata": {},
   "source": [
    "Running this computation on the random_policy shows a baseline performance in the environment."
   ]
  },
  {
   "cell_type": "code",
   "execution_count": 28,
   "metadata": {},
   "outputs": [
    {
     "data": {
      "text/plain": [
       "22.6"
      ]
     },
     "execution_count": 28,
     "metadata": {},
     "output_type": "execute_result"
    }
   ],
   "source": [
    "compute_avg_return(eval_env, random_policy, num_eval_episodes)"
   ]
  },
  {
   "cell_type": "markdown",
   "metadata": {},
   "source": [
    "## Replay Buffer ##"
   ]
  },
  {
   "cell_type": "markdown",
   "metadata": {},
   "source": [
    "The replay buffer keeps track of data collected from the environment. This tutorial uses tf_agents.replay_buffers.tf_uniform_replay_buffer.TFUniformReplayBuffer, as it is the most common."
   ]
  },
  {
   "cell_type": "markdown",
   "metadata": {},
   "source": [
    "The constructor requires the specs for the data it will be collecting. This is available from the agent using the collect_data_spec method. The batch size and maximum buffer length are also required."
   ]
  },
  {
   "cell_type": "code",
   "execution_count": 29,
   "metadata": {},
   "outputs": [],
   "source": [
    "replay_buffer = tf_uniform_replay_buffer.TFUniformReplayBuffer(data_spec=agent.collect_data_spec,\n",
    "                                                               batch_size=train_env.batch_size,\n",
    "                                                               max_length=replay_buffer_max_length)"
   ]
  },
  {
   "cell_type": "markdown",
   "metadata": {},
   "source": [
    "For most agents, collect_data_spec is a named tuple called Trajectory, containing the specs for observations, actions, rewards, and other items."
   ]
  },
  {
   "cell_type": "code",
   "execution_count": 30,
   "metadata": {},
   "outputs": [
    {
     "data": {
      "text/plain": [
       "Trajectory(step_type=TensorSpec(shape=(), dtype=tf.int32, name='step_type'), observation=BoundedTensorSpec(shape=(4,), dtype=tf.float32, name='observation', minimum=array([-4.8000002e+00, -3.4028235e+38, -4.1887903e-01, -3.4028235e+38],\n",
       "      dtype=float32), maximum=array([4.8000002e+00, 3.4028235e+38, 4.1887903e-01, 3.4028235e+38],\n",
       "      dtype=float32)), action=BoundedTensorSpec(shape=(), dtype=tf.int64, name='action', minimum=array(0), maximum=array(1)), policy_info=(), next_step_type=TensorSpec(shape=(), dtype=tf.int32, name='step_type'), reward=TensorSpec(shape=(), dtype=tf.float32, name='reward'), discount=BoundedTensorSpec(shape=(), dtype=tf.float32, name='discount', minimum=array(0., dtype=float32), maximum=array(1., dtype=float32)))"
      ]
     },
     "execution_count": 30,
     "metadata": {},
     "output_type": "execute_result"
    }
   ],
   "source": [
    "agent.collect_data_spec"
   ]
  },
  {
   "cell_type": "code",
   "execution_count": 31,
   "metadata": {},
   "outputs": [
    {
     "data": {
      "text/plain": [
       "('step_type',\n",
       " 'observation',\n",
       " 'action',\n",
       " 'policy_info',\n",
       " 'next_step_type',\n",
       " 'reward',\n",
       " 'discount')"
      ]
     },
     "execution_count": 31,
     "metadata": {},
     "output_type": "execute_result"
    }
   ],
   "source": [
    "agent.collect_data_spec._fields"
   ]
  },
  {
   "cell_type": "markdown",
   "metadata": {},
   "source": [
    "## Data Collection ##"
   ]
  },
  {
   "cell_type": "markdown",
   "metadata": {},
   "source": [
    "Now execute the random policy in the environment for a few steps, recording the data in the replay buffer."
   ]
  },
  {
   "cell_type": "code",
   "execution_count": 32,
   "metadata": {},
   "outputs": [],
   "source": [
    "#@test {\"skip\": true}\n",
    "def collect_step(environment, policy, buffer):\n",
    "    time_step = environment.current_time_step()\n",
    "    action_step = policy.action(time_step)\n",
    "    next_time_step = environment.step(action_step.action)\n",
    "    traj = trajectory.from_transition(time_step, action_step, next_time_step)\n",
    "\n",
    "    # Add trajectory to the replay buffer\n",
    "    buffer.add_batch(traj)\n",
    "\n",
    "def collect_data(env, policy, buffer, steps):\n",
    "    for _ in range(steps):\n",
    "        collect_step(env, policy, buffer)\n",
    "\n",
    "collect_data(train_env, random_policy, replay_buffer, steps=100)\n",
    "\n",
    "# This loop is so common in RL, that we provide standard implementations. \n",
    "# For more details see the drivers module.\n",
    "# https://www.tensorflow.org/agents/api_docs/python/tf_agents/drivers"
   ]
  },
  {
   "cell_type": "markdown",
   "metadata": {},
   "source": [
    "The agent needs access to the replay buffer. This is provided by creating an iterable tf.data.Dataset pipeline which will feed data to the agent.\n",
    "\n",
    "Each row of the replay buffer only stores a single observation step. But since the DQN Agent needs both the current and next observation to compute the loss, the dataset pipeline will sample two adjacent rows for each item in the batch (num_steps=2).\n",
    "\n",
    "This dataset is also optimized by running parallel calls and prefetching data."
   ]
  },
  {
   "cell_type": "code",
   "execution_count": 33,
   "metadata": {},
   "outputs": [
    {
     "name": "stdout",
     "output_type": "stream",
     "text": [
      "WARNING:tensorflow:From /home/ruiliu/Development/jupyter-venv/lib/python3.6/site-packages/tf_agents/replay_buffers/tf_uniform_replay_buffer.py:545: where (from tensorflow.python.ops.array_ops) is deprecated and will be removed in a future version.\n",
      "Instructions for updating:\n",
      "Use tf.where in 2.0, which has the same broadcast rule as np.where\n"
     ]
    },
    {
     "data": {
      "text/plain": [
       "<DatasetV1Adapter shapes: (Trajectory(step_type=(64, 2), observation=(64, 2, 4), action=(64, 2), policy_info=(), next_step_type=(64, 2), reward=(64, 2), discount=(64, 2)), BufferInfo(ids=(64, 2), probabilities=(64,))), types: (Trajectory(step_type=tf.int32, observation=tf.float32, action=tf.int64, policy_info=(), next_step_type=tf.int32, reward=tf.float32, discount=tf.float32), BufferInfo(ids=tf.int64, probabilities=tf.float32))>"
      ]
     },
     "execution_count": 33,
     "metadata": {},
     "output_type": "execute_result"
    }
   ],
   "source": [
    "# Dataset generates trajectories with shape [Bx2x...]\n",
    "dataset = replay_buffer.as_dataset(num_parallel_calls=3, \n",
    "                                   sample_batch_size=batch_size, \n",
    "                                   num_steps=2).prefetch(3)\n",
    "\n",
    "dataset"
   ]
  },
  {
   "cell_type": "code",
   "execution_count": 34,
   "metadata": {},
   "outputs": [
    {
     "name": "stdout",
     "output_type": "stream",
     "text": [
      "<tensorflow.python.data.ops.iterator_ops.IteratorV2 object at 0x7fed52297fd0>\n"
     ]
    }
   ],
   "source": [
    "iterator = iter(dataset)\n",
    "\n",
    "print(iterator)"
   ]
  },
  {
   "cell_type": "markdown",
   "metadata": {},
   "source": [
    "## Training the agent ##"
   ]
  },
  {
   "cell_type": "markdown",
   "metadata": {},
   "source": [
    "Two things must happen during the training loop:\n",
    "    \n",
    "+ collect data from the environment\n",
    "+ use that data to train the agent's neural network(s)\n",
    "\n",
    "This example also periodicially evaluates the policy and prints the current score.\n",
    "\n",
    "The following will take ~5 minutes to run."
   ]
  },
  {
   "cell_type": "code",
   "execution_count": 35,
   "metadata": {},
   "outputs": [
    {
     "name": "stdout",
     "output_type": "stream",
     "text": [
      "step = 200: loss = 14.591957092285156\n",
      "step = 400: loss = 15.462089538574219\n",
      "step = 600: loss = 33.319252014160156\n",
      "step = 800: loss = 17.682296752929688\n",
      "step = 1000: loss = 24.64642333984375\n",
      "step = 1000: Average Return = 17.700000762939453\n",
      "step = 1200: loss = 27.632247924804688\n",
      "step = 1400: loss = 36.63472366333008\n",
      "step = 1600: loss = 22.44340705871582\n",
      "step = 1800: loss = 13.934027671813965\n",
      "step = 2000: loss = 23.643707275390625\n",
      "step = 2000: Average Return = 27.600000381469727\n",
      "step = 2200: loss = 28.60143280029297\n",
      "step = 2400: loss = 5.236052989959717\n",
      "step = 2600: loss = 19.730297088623047\n",
      "step = 2800: loss = 11.289377212524414\n",
      "step = 3000: loss = 3.7913553714752197\n",
      "step = 3000: Average Return = 42.29999923706055\n",
      "step = 3200: loss = 80.34331512451172\n",
      "step = 3400: loss = 85.855712890625\n",
      "step = 3600: loss = 96.2527847290039\n",
      "step = 3800: loss = 51.265663146972656\n",
      "step = 4000: loss = 62.02460479736328\n",
      "step = 4000: Average Return = 96.4000015258789\n",
      "step = 4200: loss = 18.663063049316406\n",
      "step = 4400: loss = 238.90435791015625\n",
      "step = 4600: loss = 179.79624938964844\n",
      "step = 4800: loss = 16.708829879760742\n",
      "step = 5000: loss = 75.53165435791016\n",
      "step = 5000: Average Return = 107.69999694824219\n",
      "step = 5200: loss = 31.470619201660156\n",
      "step = 5400: loss = 73.4534912109375\n",
      "step = 5600: loss = 142.6146240234375\n",
      "step = 5800: loss = 23.560548782348633\n",
      "step = 6000: loss = 11.47688102722168\n",
      "step = 6000: Average Return = 146.8000030517578\n",
      "step = 6200: loss = 52.46858215332031\n",
      "step = 6400: loss = 4.655405044555664\n",
      "step = 6600: loss = 101.5684814453125\n",
      "step = 6800: loss = 108.31460571289062\n",
      "step = 7000: loss = 31.779390335083008\n",
      "step = 7000: Average Return = 191.0\n",
      "step = 7200: loss = 134.05667114257812\n",
      "step = 7400: loss = 617.7164916992188\n",
      "step = 7600: loss = 22.563472747802734\n",
      "step = 7800: loss = 219.94744873046875\n",
      "step = 8000: loss = 331.781494140625\n",
      "step = 8000: Average Return = 195.0\n",
      "step = 8200: loss = 90.3957290649414\n",
      "step = 8400: loss = 85.43891143798828\n",
      "step = 8600: loss = 552.8147583007812\n",
      "step = 8800: loss = 607.7987060546875\n",
      "step = 9000: loss = 154.48265075683594\n",
      "step = 9000: Average Return = 200.0\n",
      "step = 9200: loss = 162.08828735351562\n",
      "step = 9400: loss = 20.363616943359375\n",
      "step = 9600: loss = 433.2418518066406\n",
      "step = 9800: loss = 416.61712646484375\n",
      "step = 10000: loss = 110.83832550048828\n",
      "step = 10000: Average Return = 187.60000610351562\n",
      "step = 10200: loss = 246.591064453125\n",
      "step = 10400: loss = 326.8278503417969\n",
      "step = 10600: loss = 682.4993286132812\n",
      "step = 10800: loss = 604.4013061523438\n",
      "step = 11000: loss = 33.89970016479492\n",
      "step = 11000: Average Return = 197.0\n",
      "step = 11200: loss = 32.247344970703125\n",
      "step = 11400: loss = 310.39007568359375\n",
      "step = 11600: loss = 155.5972137451172\n",
      "step = 11800: loss = 50.46482849121094\n",
      "step = 12000: loss = 557.8936767578125\n",
      "step = 12000: Average Return = 199.6999969482422\n",
      "step = 12200: loss = 740.4091186523438\n",
      "step = 12400: loss = 23.40587615966797\n",
      "step = 12600: loss = 40.87124252319336\n",
      "step = 12800: loss = 380.3180236816406\n",
      "step = 13000: loss = 28.391645431518555\n",
      "step = 13000: Average Return = 200.0\n",
      "step = 13200: loss = 583.78466796875\n",
      "step = 13400: loss = 1667.968994140625\n",
      "step = 13600: loss = 522.9503784179688\n",
      "step = 13800: loss = 578.4559326171875\n",
      "step = 14000: loss = 1764.1383056640625\n",
      "step = 14000: Average Return = 185.60000610351562\n",
      "step = 14200: loss = 65.93013000488281\n",
      "step = 14400: loss = 52.00580978393555\n",
      "step = 14600: loss = 40.095455169677734\n",
      "step = 14800: loss = 41.946807861328125\n",
      "step = 15000: loss = 65.24358367919922\n",
      "step = 15000: Average Return = 200.0\n",
      "step = 15200: loss = 120.69244384765625\n",
      "step = 15400: loss = 58.98984146118164\n",
      "step = 15600: loss = 1438.860595703125\n",
      "step = 15800: loss = 764.7633666992188\n",
      "step = 16000: loss = 761.832275390625\n",
      "step = 16000: Average Return = 200.0\n",
      "step = 16200: loss = 7330.48291015625\n",
      "step = 16400: loss = 63.84497833251953\n",
      "step = 16600: loss = 1195.1923828125\n",
      "step = 16800: loss = 70.80277252197266\n",
      "step = 17000: loss = 315.79119873046875\n",
      "step = 17000: Average Return = 200.0\n",
      "step = 17200: loss = 83.59107208251953\n",
      "step = 17400: loss = 87.10277557373047\n",
      "step = 17600: loss = 159.14346313476562\n",
      "step = 17800: loss = 114.15360260009766\n",
      "step = 18000: loss = 94.61849975585938\n",
      "step = 18000: Average Return = 200.0\n",
      "step = 18200: loss = 104.7288818359375\n",
      "step = 18400: loss = 114.56671142578125\n",
      "step = 18600: loss = 312.367919921875\n",
      "step = 18800: loss = 217.25030517578125\n",
      "step = 19000: loss = 777.072509765625\n",
      "step = 19000: Average Return = 197.60000610351562\n",
      "step = 19200: loss = 94.19184875488281\n",
      "step = 19400: loss = 196.72705078125\n",
      "step = 19600: loss = 176.39633178710938\n",
      "step = 19800: loss = 171.05084228515625\n",
      "step = 20000: loss = 6618.623046875\n",
      "step = 20000: Average Return = 200.0\n"
     ]
    }
   ],
   "source": [
    "#@test {\"skip\": true}\n",
    "try:\n",
    "    %%time\n",
    "except:\n",
    "    pass\n",
    "\n",
    "# (Optional) Optimize by wrapping some of the code in a graph using TF function.\n",
    "agent.train = common.function(agent.train)\n",
    "\n",
    "# Reset the train step\n",
    "agent.train_step_counter.assign(0)\n",
    "\n",
    "# Evaluate the agent's policy once before training.\n",
    "avg_return = compute_avg_return(eval_env, agent.policy, num_eval_episodes)\n",
    "returns = [avg_return]\n",
    "\n",
    "for _ in range(num_iterations):\n",
    "    # Collect a few steps using collect_policy and save to the replay buffer.\n",
    "    for _ in range(collect_steps_per_iteration):\n",
    "        collect_step(train_env, agent.collect_policy, replay_buffer)\n",
    "    \n",
    "    # Sample a batch of data from the buffer and update the agent's network.\n",
    "    experience, unused_info = next(iterator)\n",
    "    train_loss = agent.train(experience).loss\n",
    "    \n",
    "    step = agent.train_step_counter.numpy()\n",
    "    \n",
    "    if step % log_interval == 0:\n",
    "        print('step = {0}: loss = {1}'.format(step, train_loss))\n",
    "        \n",
    "    if step % eval_interval == 0:\n",
    "        avg_return = compute_avg_return(eval_env, agent.policy, num_eval_episodes)\n",
    "        print('step = {0}: Average Return = {1}'.format(step, avg_return))\n",
    "        returns.append(avg_return)"
   ]
  },
  {
   "cell_type": "markdown",
   "metadata": {},
   "source": [
    "## Visualization ##"
   ]
  },
  {
   "cell_type": "markdown",
   "metadata": {},
   "source": [
    "### Plots ###"
   ]
  },
  {
   "cell_type": "markdown",
   "metadata": {},
   "source": [
    "Use matplotlib.pyplot to chart how the policy improved during training."
   ]
  },
  {
   "cell_type": "markdown",
   "metadata": {},
   "source": [
    "One iteration of Cartpole-v0 consists of 200 time steps. The environment gives a reward of +1 for each step the pole stays up, so the maximum return for one episode is 200. The charts shows the return increasing towards that maximum each time it is evaluated during training. (It may be a little unstable and not increase monotonically each time.)"
   ]
  },
  {
   "cell_type": "code",
   "execution_count": 36,
   "metadata": {},
   "outputs": [
    {
     "data": {
      "text/plain": [
       "(8.585000801086425, 250.0)"
      ]
     },
     "execution_count": 36,
     "metadata": {},
     "output_type": "execute_result"
    },
    {
     "data": {
      "image/png": "[encoded data removed]",
      "text/plain": [
       "<Figure size 432x288 with 1 Axes>"
      ]
     },
     "metadata": {
      "needs_background": "light"
     },
     "output_type": "display_data"
    }
   ],
   "source": [
    "#@test {\"skip\": true}\n",
    "\n",
    "iterations = range(0, num_iterations + 1, eval_interval)\n",
    "plt.plot(iterations, returns)\n",
    "plt.ylabel('Average Return')\n",
    "plt.xlabel('Iterations')\n",
    "plt.ylim(top=250)"
   ]
  },
  {
   "cell_type": "markdown",
   "metadata": {},
   "source": [
    "### Videos ###"
   ]
  },
  {
   "cell_type": "markdown",
   "metadata": {},
   "source": [
    "Charts are nice. But more exciting is seeing an agent actually performing a task in an environment.\n",
    "\n",
    "First, create a function to embed videos in the notebook."
   ]
  },
  {
   "cell_type": "code",
   "execution_count": 37,
   "metadata": {},
   "outputs": [],
   "source": [
    "def embed_mp4(filename):\n",
    "    \"\"\"Embeds an mp4 file in the notebook.\"\"\"\n",
    "    video = open(filename,'rb').read()\n",
    "    b64 = base64.b64encode(video)\n",
    "    tag = '''<video width=\"640\" height=\"480\" controls><source src=\"data:video/mp4;base64,{0}\" type=\"video/mp4\">Your browser does not support the video tag.</video>'''.format(b64.decode())\n",
    "\n",
    "    return IPython.display.HTML(tag)"
   ]
  },
  {
   "cell_type": "markdown",
   "metadata": {},
   "source": [
    "Now iterate through a few episodes of the Cartpole game with the agent. The underlying Python environment (the one \"inside\" the TensorFlow environment wrapper) provides a render() method, which outputs an image of the environment state. These can be collected into a video."
   ]
  },
  {
   "cell_type": "code",
   "execution_count": 38,
   "metadata": {},
   "outputs": [
    {
     "name": "stderr",
     "output_type": "stream",
     "text": [
      "WARNING:root:IMAGEIO FFMPEG_WRITER WARNING: input image is not divisible by macro_block_size=16, resizing from (400, 600) to (400, 608) to ensure video compatibility with most codecs and players. To prevent resizing, make your input image divisible by the macro_block_size or set the macro_block_size to None (risking incompatibility). You may also see a FFMPEG warning concerning speedloss due to data not being aligned.\n"
     ]
    },
    {
     "data": {
      "text/html": [
       "<video width=\"640\" height=\"480\" controls><source src=\"data:video/mp4;base64,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\" type=\"video/mp4\">Your browser does not support the video tag.</video>"
      ],
      "text/plain": [
       "<IPython.core.display.HTML object>"
      ]
     },
     "execution_count": 38,
     "metadata": {},
     "output_type": "execute_result"
    }
   ],
   "source": [
    "def create_policy_eval_video(policy, filename, num_episodes=5, fps=30):\n",
    "    filename = filename + \".mp4\"\n",
    "    with imageio.get_writer(filename, fps=fps) as video:\n",
    "        for _ in range(num_episodes):\n",
    "            time_step = eval_env.reset()\n",
    "            video.append_data(eval_py_env.render())\n",
    "            while not time_step.is_last():\n",
    "                action_step = policy.action(time_step)\n",
    "                time_step = eval_env.step(action_step.action)\n",
    "                video.append_data(eval_py_env.render())\n",
    "    \n",
    "    return embed_mp4(filename)\n",
    "\n",
    "\n",
    "create_policy_eval_video(agent.policy, \"trained-agent\")"
   ]
  },
  {
   "cell_type": "markdown",
   "metadata": {},
   "source": [
    "For fun, compare the trained agent (above) to an agent moving randomly. (It does not do as well.)"
   ]
  },
  {
   "cell_type": "code",
   "execution_count": 39,
   "metadata": {},
   "outputs": [
    {
     "name": "stderr",
     "output_type": "stream",
     "text": [
      "WARNING:root:IMAGEIO FFMPEG_WRITER WARNING: input image is not divisible by macro_block_size=16, resizing from (400, 600) to (400, 608) to ensure video compatibility with most codecs and players. To prevent resizing, make your input image divisible by the macro_block_size or set the macro_block_size to None (risking incompatibility). You may also see a FFMPEG warning concerning speedloss due to data not being aligned.\n"
     ]
    },
    {
     "data": {
      "text/html": [
       "<video width=\"640\" height=\"480\" controls><source src=\"data:video/mp4;base64,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\" type=\"video/mp4\">Your browser does not support the video tag.</video>"
      ],
      "text/plain": [
       "<IPython.core.display.HTML object>"
      ]
     },
     "execution_count": 39,
     "metadata": {},
     "output_type": "execute_result"
    }
   ],
   "source": [
    "create_policy_eval_video(random_policy, \"random-agent\")"
   ]
  }
 ],
 "metadata": {
  "kernelspec": {
   "display_name": "Python 3",
   "language": "python",
   "name": "python3"
  },
  "language_info": {
   "codemirror_mode": {
    "name": "ipython",
    "version": 3
   },
   "file_extension": ".py",
   "mimetype": "text/x-python",
   "name": "python",
   "nbconvert_exporter": "python",
   "pygments_lexer": "ipython3",
   "version": "3.6.9"
  }
 },
 "nbformat": 4,
 "nbformat_minor": 4
}
